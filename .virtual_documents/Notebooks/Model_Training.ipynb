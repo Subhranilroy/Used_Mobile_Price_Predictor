


import numpy as np
import pandas as pd
import matplotlib.pyplot as plt
import seaborn as sns
import warnings

warnings.filterwarnings('ignore')


df = pd.read_csv('Processed_Dataset.csv')


data = df.copy()


data





X = data.iloc[:, :-1]
y = data.iloc[:, -1]


from sklearn.model_selection import train_test_split


X_train, X_test, y_train, y_test = train_test_split(X, y, test_size=0.25, random_state=42)


print(f"{X_train.shape}, {X_test.shape}")


from sklearn.linear_model import LinearRegression


regressor = LinearRegression()


regressor


regressor.fit(X_train, y_train)


y_pred = regressor.predict(X_test)


from sklearn.metrics import mean_squared_error, r2_score


mse = mean_squared_error(y_test, y_pred)
r2 = r2_score(y_test, y_pred)   

print(f"Mean Square Error = {mse}")
print(f"R2 Score = {r2}")


import joblib

# Save the model to a file
joblib.dump(regressor, "regressor_model.pkl")
print(f"Model saved as -> regressor_model.pkl")


# Pick one row from X_test
sample_df = data.drop('Used_Price', axis=1)
sample = sample_df.iloc[2]
print("Sample features:\n", sample)

# Reshape it for prediction (1, n_features)
sample_reshaped = sample.values.reshape(1, -1)

# Predict using the saved model
y_pred_sample = regressor.predict(sample_reshaped)
print(f"Predicted price: {y_pred_sample[0]:.2f}")




