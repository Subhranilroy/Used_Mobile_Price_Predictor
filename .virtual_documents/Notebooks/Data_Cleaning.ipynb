





import numpy as np
import pandas as pd
import matplotlib.pyplot as plt
import seaborn as sns
import warnings

warnings.filterwarnings('ignore')





df = pd.read_csv('used_phone_data.csv')
df


data = df.copy()
data


data.info()


data.isnull().sum()


data.dropna(inplace=True)


data.isnull().sum()


data.info()


data.describe(include='number')


numerical_cols = list(data.select_dtypes(include='number').columns)
numerical_cols


corr = data.select_dtypes(include='number').corr()


plt.figure(figsize=(12,8))
sns.heatmap(corr, annot=True, cmap='viridis')
plt.show()


categorical_cols = list(data.select_dtypes(include='object').columns)
categorical_cols


for col in categorical_cols:
    print(data[col].unique())


data


data.duplicated()
# No duplciates


# No of outliers

for col in numerical_cols:
    Q1 = data[col].quantile(0.25)
    Q3 = data[col].quantile(0.75)
    IQR = Q3 - Q1

    lower_bound = Q1 - 1.5 * IQR
    upper_bound = Q3 + 1.5 * IQR

    outliers = data[(data[col] < lower_bound) | (data[col] > upper_bound)][col]

    print(f"No of outliers in |{col}| column = {len(outliers)}")



# Box plot
plt.figure(figsize=(18,12))

for indx, col in enumerate(numerical_cols):

    plt.subplot(3,4,indx+1)
    sns.boxenplot(y=data[col], color='green')

plt.show()


# capping
for col in numerical_cols:
    Q1 = data[col].quantile(0.25)
    Q3 = data[col].quantile(0.75)
    IQR = Q3 - Q1

    lower_bound = Q1 - 1.5 * IQR
    upper_bound = Q3 + 1.5 * IQR
    
    data[col] = np.where(data[col] < lower_bound, lower_bound, data[col])
    data[col] = np.where(data[col] > upper_bound, upper_bound, data[col])

        # Apply capping using clip()
        #data[col] = data[col].clip(lower=lower_bound, upper=upper_bound)

    print(f"Capped outliers in |{col}| between {lower_bound:.2f} and {upper_bound:.2f}")


data


data.describe()


data.to_csv("Cleaned_Dataset.csv", index=False)
print("Dataset is coverted and saved as -> Cleaned_Dataset.csv")









