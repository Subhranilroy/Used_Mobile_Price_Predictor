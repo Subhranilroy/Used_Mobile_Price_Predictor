


import numpy as np
import pandas as pd
import matplotlib.pyplot as plt
import seaborn as sns
import warnings

warnings.filterwarnings('ignore')


df = pd.read_csv('Cleaned_Dataset.csv')
df


data = df.copy()
data


numerical_cols = list(data.select_dtypes(include='number').columns)
categorical_cols = list(data.select_dtypes(include='object').columns)

print(f"Numerical Columns = {numerical_cols}\n\nCartegorical Columns = {categorical_cols}")


plt.figure(figsize=(20, 16))
sns.set_style("dark")  
sns.set_palette("Set2")    

for indx, col in enumerate(numerical_cols):
    plt.subplot(3, 4, indx + 1)

    sns.histplot(data[col], kde=True, bins=20, color='crimson', alpha=0.9, edgecolor="black")

    plt.title(f"Distribution of {col}", fontsize=14, weight='bold')
    plt.xlabel(col, fontsize=12, weight='bold')
    plt.ylabel("Count", fontsize=12, weight='bold')
    plt.grid(alpha=0.5, linestyle='--', color='black')

plt.tight_layout()
plt.show()



for col in numerical_cols:
    print(f"Mean of |{col}| = {data[col].mean():.2f}\nStandard Deviation |{col}| = {data[col].std():.2f}")
    print("\n")





from sklearn.preprocessing import StandardScaler


scaler = StandardScaler()


data1 = data.drop('used_price', axis=1)
numerical_cols1 = list(data1.select_dtypes(include='number').columns)


for col in numerical_cols1:
    mean1 = data1[col].mean()
    std1 = data1[col].std()

    print(f"Before Scaling --- Mean = {mean1:.2f} ---- Std = {std1:.2f}")
    
    data1[col] = scaler.fit_transform(data1[[col]])
    print(f"{col} column in scaled")
    mean2 = data1[col].mean()
    std2 = data1[col].std()

    print(f"After Scaling --- Mean = {mean2:.2f} ---- Std = {std2:.2f}\n")
    


data1['Used_Price'] = data['used_price']


# After Scaling
numerical_cols2 = (data1.select_dtypes(include='number').columns)
plt.figure(figsize=(20, 16))
sns.set_style("dark")  
sns.set_palette("Set2")    

for indx, col in enumerate(numerical_cols2):
    plt.subplot(3, 4, indx + 1)

    sns.histplot(data1[col], kde=True, bins=20, color='green', alpha=0.8, edgecolor="black")

    plt.title(f"Distribution of {col}", fontsize=14, weight='bold')
    plt.xlabel(col, fontsize=12, weight='bold')
    plt.ylabel("Count", fontsize=12, weight='bold')
    plt.grid(alpha=0.5, linestyle='--', color='black')

plt.tight_layout()
plt.show()



data1





categorical_cols


from sklearn.preprocessing import LabelEncoder


encoder = LabelEncoder()


for col in categorical_cols:
    data1[col] = encoder.fit_transform(data1[col])
    print(f"{col} column label encoding done.")


data1


data1.to_csv("Processed_Dataset.csv", index=False)
print("Data Processing done, saved as -> Processed_Dataset.csv")



