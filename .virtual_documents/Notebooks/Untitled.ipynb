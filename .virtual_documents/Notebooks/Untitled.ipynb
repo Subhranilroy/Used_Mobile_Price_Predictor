


import numpy as np
import pandas as pd
import matplotlib.pyplot as plt
import seaborn as sns
import warnings

warnings.filterwarnings('ignore')


df = pd.read_csv('Processed_Dataset.csv')


data = df.copy()


data





X = data.iloc[:, :-1]
y = data.iloc[:, -1]


from sklearn.model_selection import train_test_split


X_train, X_test, y_train, y_test = train_test_split(X, y, test_size=0.25, random_state=42)


print(f"{X_train.shape}, {X_test.shape}")


from sklearn.linear_model import LinearRegression


regressor = LinearRegression()


regressor


regressor.fit(X_train, y_train)



